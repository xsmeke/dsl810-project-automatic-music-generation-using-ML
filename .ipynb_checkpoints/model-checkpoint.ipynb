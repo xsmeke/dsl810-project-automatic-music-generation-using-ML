{
 "cells": [
  {
   "cell_type": "code",
   "execution_count": 2,
   "metadata": {},
   "outputs": [],
   "source": [
    "#library for understanding music\n",
    "from music21 import *"
   ]
  },
  {
   "cell_type": "code",
   "execution_count": 3,
   "metadata": {},
   "outputs": [],
   "source": [
    "#defining function to read MIDI files\n",
    "def read_midi(file):\n",
    "    \n",
    "    print(\"Loading Music File:\",file)\n",
    "    \n",
    "    notes=[]\n",
    "    notes_to_parse = None\n",
    "    \n",
    "    #parsing a midi file\n",
    "    midi = converter.parse(file)\n",
    "  \n",
    "    #grouping based on different instruments\n",
    "    s2 = instrument.partitionByInstrument(midi)\n",
    "\n",
    "    #Looping over all the instruments\n",
    "    for part in s2.parts:\n",
    "    \n",
    "        #select elements of only piano\n",
    "        if 'Piano' in str(part): \n",
    "        \n",
    "            notes_to_parse = part.recurse() \n",
    "      \n",
    "            #finding whether a particular element is note or a chord\n",
    "            for element in notes_to_parse:\n",
    "                \n",
    "                #note\n",
    "                if isinstance(element, note.Note):\n",
    "                    notes.append(str(element.pitch))\n",
    "                \n",
    "                #chord\n",
    "                elif isinstance(element, chord.Chord):\n",
    "                    notes.append('.'.join(str(n) for n in element.normalOrder))\n",
    "\n",
    "    return np.array(notes)"
   ]
  },
  {
   "cell_type": "code",
   "execution_count": 4,
   "metadata": {},
   "outputs": [
    {
     "name": "stdout",
     "output_type": "stream",
     "text": [
      "Loading Music File: schubert/schubert_D850_1.mid\n",
      "Loading Music File: schubert/schubert_D850_2.mid\n",
      "Loading Music File: schubert/schubert_D850_3.mid\n",
      "Loading Music File: schubert/schubert_D850_4.mid\n",
      "Loading Music File: schubert/schubert_D935_1.mid\n",
      "Loading Music File: schubert/schubert_D935_2.mid\n",
      "Loading Music File: schubert/schubert_D935_3.mid\n",
      "Loading Music File: schubert/schubert_D935_4.mid\n",
      "Loading Music File: schubert/schub_d760_1.mid\n",
      "Loading Music File: schubert/schub_d760_2.mid\n",
      "Loading Music File: schubert/schub_d760_3.mid\n",
      "Loading Music File: schubert/schub_d760_4.mid\n",
      "Loading Music File: schubert/schub_d960_1.mid\n",
      "Loading Music File: schubert/schub_d960_2.mid\n",
      "Loading Music File: schubert/schub_d960_3.mid\n",
      "Loading Music File: schubert/schub_d960_4.mid\n",
      "Loading Music File: schubert/schuim-1.mid\n",
      "Loading Music File: schubert/schuim-2.mid\n",
      "Loading Music File: schubert/schuim-3.mid\n",
      "Loading Music File: schubert/schuim-4.mid\n",
      "Loading Music File: schubert/schumm-1.mid\n",
      "Loading Music File: schubert/schumm-2.mid\n",
      "Loading Music File: schubert/schumm-3.mid\n",
      "Loading Music File: schubert/schumm-4.mid\n",
      "Loading Music File: schubert/schumm-5.mid\n",
      "Loading Music File: schubert/schumm-6.mid\n",
      "Loading Music File: schubert/schu_143_1.mid\n",
      "Loading Music File: schubert/schu_143_2.mid\n",
      "Loading Music File: schubert/schu_143_3.mid\n"
     ]
    },
    {
     "name": "stderr",
     "output_type": "stream",
     "text": [
      "c:\\users\\ayush\\appdata\\local\\programs\\python\\python37\\lib\\site-packages\\ipykernel_launcher.py:14: VisibleDeprecationWarning: Creating an ndarray from ragged nested sequences (which is a list-or-tuple of lists-or-tuples-or ndarrays with different lengths or shapes) is deprecated. If you meant to do this, you must specify 'dtype=object' when creating the ndarray\n",
      "  \n"
     ]
    }
   ],
   "source": [
    "#for listing down the file names\n",
    "import os\n",
    "\n",
    "#Array Processing\n",
    "import numpy as np\n",
    "\n",
    "#specify the path\n",
    "path='schubert/'\n",
    "\n",
    "#read all the filenames\n",
    "files=[i for i in os.listdir(path) if i.endswith(\".mid\")]\n",
    "\n",
    "#reading each midi file\n",
    "notes_array = np.array([read_midi(path+i) for i in files])"
   ]
  },
  {
   "cell_type": "code",
   "execution_count": 5,
   "metadata": {},
   "outputs": [
    {
     "name": "stdout",
     "output_type": "stream",
     "text": [
      "304\n"
     ]
    }
   ],
   "source": [
    "#converting 2D array into 1D array\n",
    "notes_ = [element for note_ in notes_array for element in note_]\n",
    "\n",
    "#No. of unique notes\n",
    "unique_notes = list(set(notes_))\n",
    "print(len(unique_notes))"
   ]
  },
  {
   "cell_type": "code",
   "execution_count": 6,
   "metadata": {},
   "outputs": [
    {
     "data": {
      "text/plain": [
       "(array([187.,  41.,  26.,  11.,   6.,   9.,  12.,   6.,   3.,   3.]),\n",
       " array([1.0000e+00, 1.4790e+02, 2.9480e+02, 4.4170e+02, 5.8860e+02,\n",
       "        7.3550e+02, 8.8240e+02, 1.0293e+03, 1.1762e+03, 1.3231e+03,\n",
       "        1.4700e+03]),\n",
       " <BarContainer object of 10 artists>)"
      ]
     },
     "execution_count": 6,
     "metadata": {},
     "output_type": "execute_result"
    },
    {
     "data": {
      "image/png": "[encoded data removed]",
      "text/plain": [
       "<Figure size 360x360 with 1 Axes>"
      ]
     },
     "metadata": {
      "image/png": {
       "height": 302,
       "width": 319
      },
      "needs_background": "light"
     },
     "output_type": "display_data"
    }
   ],
   "source": [
    "#importing library\n",
    "from collections import Counter\n",
    "\n",
    "#computing frequency of each note\n",
    "freq = dict(Counter(notes_))\n",
    "\n",
    "#library for visualiation\n",
    "import matplotlib.pyplot as plt\n",
    "\n",
    "#consider only the frequencies\n",
    "no=[count for _,count in freq.items()]\n",
    "\n",
    "#set the figure size\n",
    "plt.figure(figsize=(5,5))\n",
    "\n",
    "#plot\n",
    "plt.hist(no)"
   ]
  },
  {
   "cell_type": "code",
   "execution_count": 7,
   "metadata": {},
   "outputs": [
    {
     "name": "stdout",
     "output_type": "stream",
     "text": [
      "167\n"
     ]
    }
   ],
   "source": [
    "frequent_notes = [note_ for note_, count in freq.items() if count>=50]\n",
    "print(len(frequent_notes))"
   ]
  },
  {
   "cell_type": "code",
   "execution_count": 8,
   "metadata": {},
   "outputs": [
    {
     "name": "stderr",
     "output_type": "stream",
     "text": [
      "c:\\users\\ayush\\appdata\\local\\programs\\python\\python37\\lib\\site-packages\\ipykernel_launcher.py:10: VisibleDeprecationWarning: Creating an ndarray from ragged nested sequences (which is a list-or-tuple of lists-or-tuples-or ndarrays with different lengths or shapes) is deprecated. If you meant to do this, you must specify 'dtype=object' when creating the ndarray\n",
      "  # Remove the CWD from sys.path while we load stuff.\n"
     ]
    }
   ],
   "source": [
    "\n",
    "new_music=[]\n",
    "\n",
    "for notes in notes_array:\n",
    "    temp=[]\n",
    "    for note_ in notes:\n",
    "        if note_ in frequent_notes:\n",
    "            temp.append(note_)            \n",
    "    new_music.append(temp)\n",
    "    \n",
    "new_music = np.array(new_music)"
   ]
  },
  {
   "cell_type": "code",
   "execution_count": 9,
   "metadata": {},
   "outputs": [],
   "source": [
    "no_of_timesteps = 32\n",
    "x = []\n",
    "y = []\n",
    "\n",
    "for note_ in new_music:\n",
    "    for i in range(0, len(note_) - no_of_timesteps, 1):\n",
    "        \n",
    "        #preparing input and output sequences\n",
    "        input_ = note_[i:i + no_of_timesteps]\n",
    "        output = note_[i + no_of_timesteps]\n",
    "        \n",
    "        x.append(input_)\n",
    "        y.append(output)\n",
    "        \n",
    "x=np.array(x)\n",
    "y=np.array(y)"
   ]
  },
  {
   "cell_type": "code",
   "execution_count": 10,
   "metadata": {},
   "outputs": [],
   "source": [
    "unique_x = list(set(x.ravel()))\n",
    "x_note_to_int = dict((note_, number) for number, note_ in enumerate(unique_x))"
   ]
  },
  {
   "cell_type": "code",
   "execution_count": 11,
   "metadata": {},
   "outputs": [],
   "source": [
    "#preparing input sequences\n",
    "x_seq=[]\n",
    "for i in x:\n",
    "    temp=[]\n",
    "    for j in i:\n",
    "        #assigning unique integer to every note\n",
    "        temp.append(x_note_to_int[j])\n",
    "    x_seq.append(temp)\n",
    "    \n",
    "x_seq = np.array(x_seq)"
   ]
  },
  {
   "cell_type": "code",
   "execution_count": 12,
   "metadata": {},
   "outputs": [],
   "source": [
    "unique_y = list(set(y))\n",
    "y_note_to_int = dict((note_, number) for number, note_ in enumerate(unique_y)) \n",
    "y_seq=np.array([y_note_to_int[i] for i in y])"
   ]
  },
  {
   "cell_type": "code",
   "execution_count": 18,
   "metadata": {},
   "outputs": [],
   "source": [
    "from sklearn.model_selection import train_test_split\n",
    "x_tr, x_val, y_tr, y_val = train_test_split(x_seq,y_seq,test_size=0.2,random_state=0)"
   ]
  },
  {
   "cell_type": "code",
   "execution_count": 19,
   "metadata": {},
   "outputs": [],
   "source": [
    "def lstm():\n",
    "  model = Sequential()\n",
    "  model.add(LSTM(128,return_sequences=True))\n",
    "  model.add(LSTM(128))\n",
    "  model.add(Dense(256))\n",
    "  model.add(Activation('relu'))\n",
    "  model.add(Dense(n_vocab))\n",
    "  model.add(Activation('softmax'))\n",
    "  model.compile(loss='sparse_categorical_crossentropy', optimizer='adam')\n",
    "  return model"
   ]
  },
  {
   "cell_type": "code",
   "execution_count": 20,
   "metadata": {},
   "outputs": [
    {
     "name": "stdout",
     "output_type": "stream",
     "text": [
      "Model: \"sequential\"\n",
      "_________________________________________________________________\n",
      "Layer (type)                 Output Shape              Param #   \n",
      "=================================================================\n",
      "embedding (Embedding)        (None, 32, 100)           16700     \n",
      "_________________________________________________________________\n",
      "conv1d (Conv1D)              (None, 32, 64)            19264     \n",
      "_________________________________________________________________\n",
      "dropout (Dropout)            (None, 32, 64)            0         \n",
      "_________________________________________________________________\n",
      "max_pooling1d (MaxPooling1D) (None, 16, 64)            0         \n",
      "_________________________________________________________________\n",
      "conv1d_1 (Conv1D)            (None, 16, 128)           24704     \n",
      "_________________________________________________________________\n",
      "dropout_1 (Dropout)          (None, 16, 128)           0         \n",
      "_________________________________________________________________\n",
      "max_pooling1d_1 (MaxPooling1 (None, 8, 128)            0         \n",
      "_________________________________________________________________\n",
      "conv1d_2 (Conv1D)            (None, 8, 256)            98560     \n",
      "_________________________________________________________________\n",
      "dropout_2 (Dropout)          (None, 8, 256)            0         \n",
      "_________________________________________________________________\n",
      "max_pooling1d_2 (MaxPooling1 (None, 4, 256)            0         \n",
      "_________________________________________________________________\n",
      "global_max_pooling1d (Global (None, 256)               0         \n",
      "_________________________________________________________________\n",
      "dense (Dense)                (None, 256)               65792     \n",
      "_________________________________________________________________\n",
      "dense_1 (Dense)              (None, 167)               42919     \n",
      "=================================================================\n",
      "Total params: 267,939\n",
      "Trainable params: 267,939\n",
      "Non-trainable params: 0\n",
      "_________________________________________________________________\n"
     ]
    }
   ],
   "source": [
    "from keras.layers import *\n",
    "from keras.models import *\n",
    "from keras.callbacks import *\n",
    "import keras.backend as K\n",
    "\n",
    "K.clear_session()\n",
    "model = Sequential()\n",
    "    \n",
    "#embedding layer\n",
    "model.add(Embedding(len(unique_x), 100, input_length=32,trainable=True)) \n",
    "\n",
    "model.add(Conv1D(64,3, padding='causal',activation='relu'))\n",
    "model.add(Dropout(0.2))\n",
    "model.add(MaxPool1D(2))\n",
    "    \n",
    "model.add(Conv1D(128,3,activation='relu',dilation_rate=2,padding='causal'))\n",
    "model.add(Dropout(0.2))\n",
    "model.add(MaxPool1D(2))\n",
    "\n",
    "model.add(Conv1D(256,3,activation='relu',dilation_rate=4,padding='causal'))\n",
    "model.add(Dropout(0.2))\n",
    "model.add(MaxPool1D(2))\n",
    "          \n",
    "#model.add(Conv1D(256,5,activation='relu'))    \n",
    "model.add(GlobalMaxPool1D())\n",
    "    \n",
    "model.add(Dense(256, activation='relu'))\n",
    "model.add(Dense(len(unique_y), activation='softmax'))\n",
    "    \n",
    "model.compile(loss='sparse_categorical_crossentropy', optimizer='adam')\n",
    "\n",
    "model.summary()"
   ]
  },
  {
   "cell_type": "code",
   "execution_count": 21,
   "metadata": {},
   "outputs": [],
   "source": [
    "mc=ModelCheckpoint('best_model.h5', monitor='val_loss', mode='min', save_best_only=True,verbose=1)"
   ]
  },
  {
   "cell_type": "code",
   "execution_count": 22,
   "metadata": {},
   "outputs": [
    {
     "name": "stdout",
     "output_type": "stream",
     "text": [
      "Epoch 1/50\n",
      "401/403 [============================>.] - ETA: 0s - loss: 4.3536\n",
      "Epoch 00001: val_loss improved from inf to 4.13264, saving model to best_model.h5\n",
      "403/403 [==============================] - 14s 35ms/step - loss: 4.3522 - val_loss: 4.1326\n",
      "Epoch 2/50\n",
      "402/403 [============================>.] - ETA: 0s - loss: 3.8015\n",
      "Epoch 00002: val_loss improved from 4.13264 to 3.80355, saving model to best_model.h5\n",
      "403/403 [==============================] - 14s 35ms/step - loss: 3.8015 - val_loss: 3.8035\n",
      "Epoch 3/50\n",
      "402/403 [============================>.] - ETA: 0s - loss: 3.6113\n",
      "Epoch 00003: val_loss improved from 3.80355 to 3.65502, saving model to best_model.h5\n",
      "403/403 [==============================] - 14s 34ms/step - loss: 3.6111 - val_loss: 3.6550\n",
      "Epoch 4/50\n",
      "403/403 [==============================] - ETA: 0s - loss: 3.4714\n",
      "Epoch 00004: val_loss improved from 3.65502 to 3.59723, saving model to best_model.h5\n",
      "403/403 [==============================] - 13s 33ms/step - loss: 3.4714 - val_loss: 3.5972\n",
      "Epoch 5/50\n",
      "402/403 [============================>.] - ETA: 0s - loss: 3.3688\n",
      "Epoch 00005: val_loss improved from 3.59723 to 3.50182, saving model to best_model.h5\n",
      "403/403 [==============================] - 14s 34ms/step - loss: 3.3686 - val_loss: 3.5018\n",
      "Epoch 6/50\n",
      "401/403 [============================>.] - ETA: 0s - loss: 3.2882\n",
      "Epoch 00006: val_loss improved from 3.50182 to 3.42948, saving model to best_model.h5\n",
      "403/403 [==============================] - 13s 33ms/step - loss: 3.2880 - val_loss: 3.4295\n",
      "Epoch 7/50\n",
      "401/403 [============================>.] - ETA: 0s - loss: 3.2105\n",
      "Epoch 00007: val_loss improved from 3.42948 to 3.34378, saving model to best_model.h5\n",
      "403/403 [==============================] - 14s 34ms/step - loss: 3.2103 - val_loss: 3.3438\n",
      "Epoch 8/50\n",
      "401/403 [============================>.] - ETA: 0s - loss: 3.1486\n",
      "Epoch 00008: val_loss improved from 3.34378 to 3.33535, saving model to best_model.h5\n",
      "403/403 [==============================] - 13s 33ms/step - loss: 3.1485 - val_loss: 3.3354\n",
      "Epoch 9/50\n",
      "402/403 [============================>.] - ETA: 0s - loss: 3.0881\n",
      "Epoch 00009: val_loss improved from 3.33535 to 3.28003, saving model to best_model.h5\n",
      "403/403 [==============================] - 14s 34ms/step - loss: 3.0879 - val_loss: 3.2800\n",
      "Epoch 10/50\n",
      "401/403 [============================>.] - ETA: 0s - loss: 3.0361\n",
      "Epoch 00010: val_loss improved from 3.28003 to 3.26507, saving model to best_model.h5\n",
      "403/403 [==============================] - 13s 33ms/step - loss: 3.0356 - val_loss: 3.2651\n",
      "Epoch 11/50\n",
      "401/403 [============================>.] - ETA: 0s - loss: 2.9928\n",
      "Epoch 00011: val_loss improved from 3.26507 to 3.20910, saving model to best_model.h5\n",
      "403/403 [==============================] - 13s 33ms/step - loss: 2.9928 - val_loss: 3.2091\n",
      "Epoch 12/50\n",
      "403/403 [==============================] - ETA: 0s - loss: 2.9437\n",
      "Epoch 00012: val_loss improved from 3.20910 to 3.17720, saving model to best_model.h5\n",
      "403/403 [==============================] - 14s 34ms/step - loss: 2.9437 - val_loss: 3.1772\n",
      "Epoch 13/50\n",
      "401/403 [============================>.] - ETA: 0s - loss: 2.9025\n",
      "Epoch 00013: val_loss improved from 3.17720 to 3.13544, saving model to best_model.h5\n",
      "403/403 [==============================] - 14s 34ms/step - loss: 2.9026 - val_loss: 3.1354\n",
      "Epoch 14/50\n",
      "401/403 [============================>.] - ETA: 0s - loss: 2.8692\n",
      "Epoch 00014: val_loss improved from 3.13544 to 3.13416, saving model to best_model.h5\n",
      "403/403 [==============================] - 14s 34ms/step - loss: 2.8692 - val_loss: 3.1342\n",
      "Epoch 15/50\n",
      "402/403 [============================>.] - ETA: 0s - loss: 2.8285\n",
      "Epoch 00015: val_loss improved from 3.13416 to 3.10114, saving model to best_model.h5\n",
      "403/403 [==============================] - 14s 35ms/step - loss: 2.8284 - val_loss: 3.1011\n",
      "Epoch 16/50\n",
      "403/403 [==============================] - ETA: 0s - loss: 2.8020\n",
      "Epoch 00016: val_loss improved from 3.10114 to 3.07172, saving model to best_model.h5\n",
      "403/403 [==============================] - 14s 35ms/step - loss: 2.8020 - val_loss: 3.0717\n",
      "Epoch 17/50\n",
      "403/403 [==============================] - ETA: 0s - loss: 2.7698\n",
      "Epoch 00017: val_loss improved from 3.07172 to 3.07017, saving model to best_model.h5\n",
      "403/403 [==============================] - 17s 41ms/step - loss: 2.7698 - val_loss: 3.0702\n",
      "Epoch 18/50\n",
      "401/403 [============================>.] - ETA: 0s - loss: 2.7393\n",
      "Epoch 00018: val_loss improved from 3.07017 to 3.04203, saving model to best_model.h5\n",
      "403/403 [==============================] - 15s 36ms/step - loss: 2.7394 - val_loss: 3.0420\n",
      "Epoch 19/50\n",
      "403/403 [==============================] - ETA: 0s - loss: 2.7139\n",
      "Epoch 00019: val_loss improved from 3.04203 to 3.01687, saving model to best_model.h5\n",
      "403/403 [==============================] - 14s 34ms/step - loss: 2.7139 - val_loss: 3.0169\n",
      "Epoch 20/50\n",
      "402/403 [============================>.] - ETA: 0s - loss: 2.6854\n",
      "Epoch 00020: val_loss improved from 3.01687 to 2.99305, saving model to best_model.h5\n",
      "403/403 [==============================] - 14s 34ms/step - loss: 2.6858 - val_loss: 2.9930\n",
      "Epoch 21/50\n",
      "401/403 [============================>.] - ETA: 0s - loss: 2.6683\n",
      "Epoch 00021: val_loss improved from 2.99305 to 2.98108, saving model to best_model.h5\n",
      "403/403 [==============================] - 14s 34ms/step - loss: 2.6677 - val_loss: 2.9811\n",
      "Epoch 22/50\n",
      "401/403 [============================>.] - ETA: 0s - loss: 2.6485\n",
      "Epoch 00022: val_loss improved from 2.98108 to 2.97079, saving model to best_model.h5\n",
      "403/403 [==============================] - 14s 34ms/step - loss: 2.6496 - val_loss: 2.9708\n",
      "Epoch 23/50\n",
      "401/403 [============================>.] - ETA: 0s - loss: 2.6298\n",
      "Epoch 00023: val_loss did not improve from 2.97079\n",
      "403/403 [==============================] - 13s 33ms/step - loss: 2.6304 - val_loss: 2.9761\n",
      "Epoch 24/50\n",
      "401/403 [============================>.] - ETA: 0s - loss: 2.5953\n",
      "Epoch 00024: val_loss improved from 2.97079 to 2.94480, saving model to best_model.h5\n",
      "403/403 [==============================] - 14s 34ms/step - loss: 2.5958 - val_loss: 2.9448\n",
      "Epoch 25/50\n",
      "401/403 [============================>.] - ETA: 0s - loss: 2.5808\n",
      "Epoch 00025: val_loss improved from 2.94480 to 2.92553, saving model to best_model.h5\n",
      "403/403 [==============================] - 14s 34ms/step - loss: 2.5808 - val_loss: 2.9255\n",
      "Epoch 26/50\n",
      "403/403 [==============================] - ETA: 0s - loss: 2.5729\n",
      "Epoch 00026: val_loss improved from 2.92553 to 2.91365, saving model to best_model.h5\n",
      "403/403 [==============================] - 14s 34ms/step - loss: 2.5729 - val_loss: 2.9136\n",
      "Epoch 27/50\n",
      "403/403 [==============================] - ETA: 0s - loss: 2.5566\n",
      "Epoch 00027: val_loss did not improve from 2.91365\n",
      "403/403 [==============================] - 14s 34ms/step - loss: 2.5566 - val_loss: 2.9182\n",
      "Epoch 28/50\n",
      "403/403 [==============================] - ETA: 0s - loss: 2.5409\n",
      "Epoch 00028: val_loss improved from 2.91365 to 2.90214, saving model to best_model.h5\n",
      "403/403 [==============================] - 14s 34ms/step - loss: 2.5409 - val_loss: 2.9021\n",
      "Epoch 29/50\n",
      "401/403 [============================>.] - ETA: 0s - loss: 2.5279\n",
      "Epoch 00029: val_loss did not improve from 2.90214\n",
      "403/403 [==============================] - 14s 34ms/step - loss: 2.5283 - val_loss: 2.9071\n",
      "Epoch 30/50\n",
      "402/403 [============================>.] - ETA: 0s - loss: 2.5112\n",
      "Epoch 00030: val_loss improved from 2.90214 to 2.89002, saving model to best_model.h5\n",
      "403/403 [==============================] - 14s 34ms/step - loss: 2.5119 - val_loss: 2.8900\n",
      "Epoch 31/50\n",
      "401/403 [============================>.] - ETA: 0s - loss: 2.5023\n",
      "Epoch 00031: val_loss improved from 2.89002 to 2.87961, saving model to best_model.h5\n",
      "403/403 [==============================] - 14s 34ms/step - loss: 2.5024 - val_loss: 2.8796\n",
      "Epoch 32/50\n",
      "402/403 [============================>.] - ETA: 0s - loss: 2.4917\n",
      "Epoch 00032: val_loss improved from 2.87961 to 2.86894, saving model to best_model.h5\n",
      "403/403 [==============================] - 14s 34ms/step - loss: 2.4916 - val_loss: 2.8689\n",
      "Epoch 33/50\n",
      "401/403 [============================>.] - ETA: 0s - loss: 2.4719- ETA: 0s - loss: 2.472\n",
      "Epoch 00033: val_loss improved from 2.86894 to 2.84629, saving model to best_model.h5\n",
      "403/403 [==============================] - 14s 34ms/step - loss: 2.4721 - val_loss: 2.8463\n",
      "Epoch 34/50\n",
      "402/403 [============================>.] - ETA: 0s - loss: 2.4595\n",
      "Epoch 00034: val_loss did not improve from 2.84629\n",
      "403/403 [==============================] - 14s 34ms/step - loss: 2.4602 - val_loss: 2.8724\n",
      "Epoch 35/50\n",
      "403/403 [==============================] - ETA: 0s - loss: 2.4542\n",
      "Epoch 00035: val_loss improved from 2.84629 to 2.84545, saving model to best_model.h5\n",
      "403/403 [==============================] - 14s 34ms/step - loss: 2.4542 - val_loss: 2.8455\n",
      "Epoch 36/50\n",
      "403/403 [==============================] - ETA: 0s - loss: 2.4366\n",
      "Epoch 00036: val_loss improved from 2.84545 to 2.84337, saving model to best_model.h5\n",
      "403/403 [==============================] - 14s 34ms/step - loss: 2.4366 - val_loss: 2.8434\n",
      "Epoch 37/50\n",
      "403/403 [==============================] - ETA: 0s - loss: 2.4339\n",
      "Epoch 00037: val_loss improved from 2.84337 to 2.83027, saving model to best_model.h5\n",
      "403/403 [==============================] - 15s 37ms/step - loss: 2.4339 - val_loss: 2.8303\n",
      "Epoch 38/50\n",
      "403/403 [==============================] - ETA: 0s - loss: 2.4182\n",
      "Epoch 00038: val_loss improved from 2.83027 to 2.82594, saving model to best_model.h5\n",
      "403/403 [==============================] - 14s 36ms/step - loss: 2.4182 - val_loss: 2.8259\n",
      "Epoch 39/50\n",
      "402/403 [============================>.] - ETA: 0s - loss: 2.4166\n",
      "Epoch 00039: val_loss improved from 2.82594 to 2.82430, saving model to best_model.h5\n",
      "403/403 [==============================] - 14s 34ms/step - loss: 2.4167 - val_loss: 2.8243\n",
      "Epoch 40/50\n",
      "401/403 [============================>.] - ETA: 0s - loss: 2.4053\n",
      "Epoch 00040: val_loss improved from 2.82430 to 2.81822, saving model to best_model.h5\n",
      "403/403 [==============================] - 14s 34ms/step - loss: 2.4059 - val_loss: 2.8182\n",
      "Epoch 41/50\n",
      "401/403 [============================>.] - ETA: 0s - loss: 2.4027\n",
      "Epoch 00041: val_loss improved from 2.81822 to 2.81139, saving model to best_model.h5\n",
      "403/403 [==============================] - 14s 34ms/step - loss: 2.4027 - val_loss: 2.8114\n",
      "Epoch 42/50\n",
      "402/403 [============================>.] - ETA: 0s - loss: 2.3841\n",
      "Epoch 00042: val_loss improved from 2.81139 to 2.80368, saving model to best_model.h5\n",
      "403/403 [==============================] - 14s 34ms/step - loss: 2.3843 - val_loss: 2.8037\n",
      "Epoch 43/50\n",
      "401/403 [============================>.] - ETA: 0s - loss: 2.3705\n",
      "Epoch 00043: val_loss improved from 2.80368 to 2.78760, saving model to best_model.h5\n",
      "403/403 [==============================] - 14s 35ms/step - loss: 2.3705 - val_loss: 2.7876\n",
      "Epoch 44/50\n",
      "403/403 [==============================] - ETA: 0s - loss: 2.3641\n",
      "Epoch 00044: val_loss did not improve from 2.78760\n",
      "403/403 [==============================] - 14s 34ms/step - loss: 2.3641 - val_loss: 2.7890\n",
      "Epoch 45/50\n",
      "403/403 [==============================] - ETA: 0s - loss: 2.3674\n",
      "Epoch 00045: val_loss improved from 2.78760 to 2.78088, saving model to best_model.h5\n",
      "403/403 [==============================] - 14s 34ms/step - loss: 2.3674 - val_loss: 2.7809\n",
      "Epoch 46/50\n",
      "401/403 [============================>.] - ETA: 0s - loss: 2.3588\n",
      "Epoch 00046: val_loss did not improve from 2.78088\n",
      "403/403 [==============================] - 14s 34ms/step - loss: 2.3590 - val_loss: 2.7814\n",
      "Epoch 47/50\n",
      "403/403 [==============================] - ETA: 0s - loss: 2.3453\n",
      "Epoch 00047: val_loss improved from 2.78088 to 2.77298, saving model to best_model.h5\n",
      "403/403 [==============================] - 14s 34ms/step - loss: 2.3453 - val_loss: 2.7730\n",
      "Epoch 48/50\n",
      "403/403 [==============================] - ETA: 0s - loss: 2.3374- ETA: 0s - lo\n",
      "Epoch 00048: val_loss did not improve from 2.77298\n",
      "403/403 [==============================] - 14s 34ms/step - loss: 2.3374 - val_loss: 2.7746\n",
      "Epoch 49/50\n",
      "403/403 [==============================] - ETA: 0s - loss: 2.3278\n",
      "Epoch 00049: val_loss improved from 2.77298 to 2.76882, saving model to best_model.h5\n",
      "403/403 [==============================] - 14s 34ms/step - loss: 2.3278 - val_loss: 2.7688\n",
      "Epoch 50/50\n",
      "402/403 [============================>.] - ETA: 0s - loss: 2.3315\n",
      "Epoch 00050: val_loss did not improve from 2.76882\n",
      "403/403 [==============================] - 14s 34ms/step - loss: 2.3318 - val_loss: 2.7716\n"
     ]
    }
   ],
   "source": [
    "history = model.fit(np.array(x_tr),np.array(y_tr),batch_size=128,epochs=50, validation_data=(np.array(x_val),np.array(y_val)),verbose=1, callbacks=[mc])"
   ]
  },
  {
   "cell_type": "code",
   "execution_count": 23,
   "metadata": {},
   "outputs": [],
   "source": [
    "#loading best model\n",
    "from keras.models import load_model\n",
    "model = load_model('best_model.h5')"
   ]
  },
  {
   "cell_type": "code",
   "execution_count": 24,
   "metadata": {},
   "outputs": [
    {
     "name": "stdout",
     "output_type": "stream",
     "text": [
      "[57, 161, 57, 161, 57, 135, 105, 135, 135, 135]\n"
     ]
    }
   ],
   "source": [
    "import random\n",
    "ind = np.random.randint(0,len(x_val)-1)\n",
    "\n",
    "random_music = x_val[ind]\n",
    "\n",
    "predictions=[]\n",
    "for i in range(10):\n",
    "\n",
    "    random_music = random_music.reshape(1,no_of_timesteps)\n",
    "\n",
    "    prob  = model.predict(random_music)[0]\n",
    "    y_pred= np.argmax(prob,axis=0)\n",
    "    predictions.append(y_pred)\n",
    "\n",
    "    random_music = np.insert(random_music[0],len(random_music[0]),y_pred)\n",
    "    random_music = random_music[1:]\n",
    "    \n",
    "print(predictions)"
   ]
  },
  {
   "cell_type": "code",
   "execution_count": 25,
   "metadata": {},
   "outputs": [],
   "source": [
    "x_int_to_note = dict((number, note_) for number, note_ in enumerate(unique_x)) \n",
    "predicted_notes = [x_int_to_note[i] for i in predictions]"
   ]
  },
  {
   "cell_type": "code",
   "execution_count": 26,
   "metadata": {},
   "outputs": [],
   "source": [
    "def convert_to_midi(prediction_output):\n",
    "   \n",
    "    offset = 0\n",
    "    output_notes = []\n",
    "\n",
    "    # create note and chord objects based on the values generated by the model\n",
    "    for pattern in prediction_output:\n",
    "        \n",
    "        # pattern is a chord\n",
    "        if ('.' in pattern) or pattern.isdigit():\n",
    "            notes_in_chord = pattern.split('.')\n",
    "            notes = []\n",
    "            for current_note in notes_in_chord:\n",
    "                \n",
    "                cn=int(current_note)\n",
    "                new_note = note.Note(cn)\n",
    "                new_note.storedInstrument = instrument.Piano()\n",
    "                notes.append(new_note)\n",
    "                \n",
    "            new_chord = chord.Chord(notes)\n",
    "            new_chord.offset = offset\n",
    "            output_notes.append(new_chord)\n",
    "            \n",
    "        # pattern is a note\n",
    "        else:\n",
    "            \n",
    "            new_note = note.Note(pattern)\n",
    "            new_note.offset = offset\n",
    "            new_note.storedInstrument = instrument.Piano()\n",
    "            output_notes.append(new_note)\n",
    "\n",
    "        # increase offset each iteration so that notes do not stack\n",
    "        offset += 1\n",
    "    midi_stream = stream.Stream(output_notes)\n",
    "    midi_stream.write('midi', fp='music.mid')"
   ]
  },
  {
   "cell_type": "code",
   "execution_count": 27,
   "metadata": {},
   "outputs": [],
   "source": [
    "convert_to_midi(predicted_notes)"
   ]
  },
  {
   "cell_type": "code",
   "execution_count": null,
   "metadata": {},
   "outputs": [],
   "source": []
  }
 ],
 "metadata": {
  "kernelspec": {
   "display_name": "Python 3",
   "language": "python",
   "name": "python3"
  },
  "language_info": {
   "codemirror_mode": {
    "name": "ipython",
    "version": 3
   },
   "file_extension": ".py",
   "mimetype": "text/x-python",
   "name": "python",
   "nbconvert_exporter": "python",
   "pygments_lexer": "ipython3",
   "version": "3.7.4"
  }
 },
 "nbformat": 4,
 "nbformat_minor": 4
}
